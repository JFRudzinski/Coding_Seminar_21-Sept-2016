{
 "cells": [
  {
   "cell_type": "code",
   "execution_count": null,
   "metadata": {
    "collapsed": false
   },
   "outputs": [],
   "source": [
    "# IMPORTS\n",
    "\n",
    "# standard python\n",
    "import os\n",
    "\n",
    "# science stuff\n",
    "import numpy as np\n",
    "import scipy\n",
    "from scipy.optimize import fsolve\n",
    "import sympy\n",
    "from sympy import *\n",
    "init_printing(use_latex=True)\n",
    "from copy import deepcopy\n",
    "\n",
    "# inhouse functions for this example\n",
    "from functions import *\n",
    "\n",
    "# image viewing\n",
    "from IPython.core.display import HTML\n",
    "\n",
    "# plotting\n",
    "import matplotlib.pyplot as plt\n",
    "# optional for 3D plotting\n",
    "import pylab\n",
    "from mpl_toolkits.mplot3d import Axes3D\n",
    "\n",
    "# settings\n",
    "%pylab inline\n",
    "matplotlib.rcParams.update({'font.size': 12})\n",
    "\n",
    "from matplotlib import rc\n",
    "rc('text', usetex=True)\n",
    "\n",
    "import matplotlib.pylab as pylab\n",
    "params = {'legend.fontsize': 'x-large',\n",
    "          'figure.figsize': (12, 5),\n",
    "         'axes.labelsize': 'x-large',\n",
    "         'axes.titlesize':'x-large',\n",
    "         'xtick.labelsize':'x-large',\n",
    "         'ytick.labelsize':'x-large'}\n",
    "pylab.rcParams.update(params)"
   ]
  },
  {
   "cell_type": "markdown",
   "metadata": {
    "collapsed": false
   },
   "source": [
    "## The System: tripeptide of alanine"
   ]
  },
  {
   "cell_type": "code",
   "execution_count": null,
   "metadata": {
    "collapsed": false
   },
   "outputs": [],
   "source": [
    "from IPython.display import Image\n",
    "from IPython.display import display\n",
    "x = Image(filename='ALA3_intro.png',width=450)\n",
    "display(x)"
   ]
  },
  {
   "cell_type": "markdown",
   "metadata": {
    "collapsed": false
   },
   "source": [
    "## The Problem: determine the total kinetics of the peptide from a 2-residue model\n",
    "\n",
    "&nbsp;\n",
    "\n",
    "[comment]: <> ( inserting image in markdown: <img src=\"ALA3_intro.png\" width=\"200px\"> )\n",
    "\n",
    "$$\\huge \\bullet-\\bullet-\\bullet$$  \n",
    "$$\\large x_0 \\hspace{11mm} x_1 \\hspace{11mm} x_2 $$             \n",
    "\n",
    "&nbsp;\n",
    "\n",
    "$$x_i \\in \\{ \\alpha, \\beta \\} \\equiv \\{ 0, 1 \\}$$  \n",
    "\n",
    "&nbsp;\n",
    "\n",
    "* Suppose we know the average dynamic behavior of pairs of residues, i.e., $$P^{i,j}_{x'_ix'_j|x_ix_j} - \\text{ Probability of } \\{ x'_ix'_j \\} \\text{ at time } t+\\tau \\text{ given } \\{ x_ix_j \\} \\text{ at time } t \\text{ at positions i and j } $$\n",
    "\n",
    "&nbsp;\n",
    "\n",
    "* We want to build a kinetic model for the entire tri-peptide, i.e., $$P_{x'_0x'_1x'_2|x_0x_1x_2} - \\text{ Probability of } \\{ x'_0x'_1x'_2 \\} \\text{ at time } t+\\tau \\text{ given } \\{ x_0x_1x_2 \\} \\text{ at time } t $$ \n",
    "\n",
    "### Other Players\n",
    "\n",
    "$$P^{i,j}_{x_ix_j} - \\text{ Probability of } \\{ x_ix_j \\} \\text{ at positions i and j } $$\n",
    "\n",
    "$$P^{i}_{x'_i|x_i} - \\text{ Probability of } \\{ x'_i \\} \\text{ at time } t+\\tau \\text{ given } \\{ x_i \\} \\text{ at time } t \\text{ at position i } $$\n",
    "\n",
    "$$P^{i}_{x_i} - \\text{ Probability of } \\{ x_i \\} \\text{ at position i } $$\n",
    "\n",
    "### The solution summary\n",
    "\n",
    "$$P_{x'_0x'_1x'_2|x_0x_1x_2}=\\frac{P^{0,1}_{x'_0x'_1|x_0x_1} P^{1,2}_{x'_1x'_2|x_1x_2}}{P^{1}_{x'_1|x_1}}$$\n",
    "\n",
    "&nbsp;\n",
    "\n",
    "$$P^{1}_{x'_1|x_1} = \\frac{1}{P^{1}_{x_1}} \\left( \\sum_{y'_0y_0y'_2y_2} P^{0,1}_{y_0x_1} P^{0,1}_{y'_0x'_1|y_0x_1} P^{1,2}_{x_1y_2} P^{1,2}_{x'_1y'_2|x_1y_2} \\right)^{0.5}$$\n",
    "\n",
    "&nbsp;\n",
    "\n",
    "$$P^{1}_{0|0} = \\frac{1}{P^{1}_{0}} \\left(1.0 P^{0,1}_{00} P^{0,1}_{00|00} P^{1,2}_{00} P^{1,2}_{00|00} + 1.0 P^{0,1}_{00} P^{0,1}_{00|00} P^{1,2}_{00} P^{1,2}_{01|00} + 1.0 P^{0,1}_{00} P^{0,1}_{00|00} P^{1,2}_{00|01} P^{1,2}_{01} + 1.0 P^{0,1}_{00} P^{0,1}_{00|00} P^{1,2}_{01} P^{1,2}_{01|01} + 1.0 P^{0,1}_{00} P^{0,1}_{10|00} P^{1,2}_{00} P^{1,2}_{00|00} + 1.0 P^{0,1}_{00} P^{0,1}_{10|00} P^{1,2}_{00} P^{1,2}_{01|00} + 1.0 P^{0,1}_{00} P^{0,1}_{10|00} P^{1,2}_{00|01} P^{1,2}_{01} + 1.0 P^{0,1}_{00} P^{0,1}_{10|00} P^{1,2}_{01} P^{1,2}_{01|01} + 1.0 P^{0,1}_{00|10} P^{0,1}_{10} P^{1,2}_{00} P^{1,2}_{00|00} + 1.0 P^{0,1}_{00|10} P^{0,1}_{10} P^{1,2}_{00} P^{1,2}_{01|00} + 1.0 P^{0,1}_{00|10} P^{0,1}_{10} P^{1,2}_{00|01} P^{1,2}_{01} + 1.0 P^{0,1}_{00|10} P^{0,1}_{10} P^{1,2}_{01} P^{1,2}_{01|01} + 1.0 P^{0,1}_{10} P^{0,1}_{10|10} P^{1,2}_{00} P^{1,2}_{00|00} + 1.0 P^{0,1}_{10} P^{0,1}_{10|10} P^{1,2}_{00} P^{1,2}_{01|00} + 1.0 P^{0,1}_{10} P^{0,1}_{10|10} P^{1,2}_{00|01} P^{1,2}_{01} + 1.0 P^{0,1}_{10} P^{0,1}_{10|10} P^{1,2}_{01} P^{1,2}_{01|01}\\right)^{0.5}$$"
   ]
  },
  {
   "cell_type": "markdown",
   "metadata": {
    "collapsed": true
   },
   "source": [
    "## Sympy Basics\n",
    "\n",
    "* Defining Symbols"
   ]
  },
  {
   "cell_type": "code",
   "execution_count": null,
   "metadata": {
    "collapsed": false
   },
   "outputs": [],
   "source": [
    "x = Symbol('x')\n",
    "y,z = symbols('y,z')"
   ]
  },
  {
   "cell_type": "markdown",
   "metadata": {
    "collapsed": true
   },
   "source": [
    "* Expressions"
   ]
  },
  {
   "cell_type": "code",
   "execution_count": null,
   "metadata": {
    "collapsed": false
   },
   "outputs": [],
   "source": [
    "eqn = z*sympy.exp(-x**2-y**2) + x**2*y**2*sympy.exp(-2*(x**2+y**2))\n",
    "eqn"
   ]
  },
  {
   "cell_type": "code",
   "execution_count": null,
   "metadata": {
    "collapsed": false
   },
   "outputs": [],
   "source": [
    "expand(eqn)"
   ]
  },
  {
   "cell_type": "code",
   "execution_count": null,
   "metadata": {
    "collapsed": false
   },
   "outputs": [],
   "source": [
    "simplify(eqn)"
   ]
  },
  {
   "cell_type": "code",
   "execution_count": null,
   "metadata": {
    "collapsed": false
   },
   "outputs": [],
   "source": [
    "eqn+eqn"
   ]
  },
  {
   "cell_type": "code",
   "execution_count": null,
   "metadata": {
    "collapsed": false
   },
   "outputs": [],
   "source": [
    "eqn**2"
   ]
  },
  {
   "cell_type": "code",
   "execution_count": null,
   "metadata": {
    "collapsed": false
   },
   "outputs": [],
   "source": [
    "expand(eqn**2)"
   ]
  },
  {
   "cell_type": "markdown",
   "metadata": {
    "collapsed": false
   },
   "source": [
    "* Printing"
   ]
  },
  {
   "cell_type": "code",
   "execution_count": null,
   "metadata": {
    "collapsed": false
   },
   "outputs": [],
   "source": [
    "# to code\n",
    "print ccode(eqn)\n",
    "print ''\n",
    "print python(eqn)"
   ]
  },
  {
   "cell_type": "code",
   "execution_count": null,
   "metadata": {
    "collapsed": false
   },
   "outputs": [],
   "source": [
    "# to latex\n",
    "print latex(eqn)+' = 0'"
   ]
  },
  {
   "cell_type": "markdown",
   "metadata": {
    "collapsed": false
   },
   "source": [
    "$$x^{2} y^{2} e^{- 2 x^{2} - 2 y^{2}} + z e^{- x^{2} - y^{2}} = 0$$"
   ]
  },
  {
   "cell_type": "markdown",
   "metadata": {
    "collapsed": false
   },
   "source": [
    "* Basic equation solving"
   ]
  },
  {
   "cell_type": "code",
   "execution_count": null,
   "metadata": {
    "collapsed": false
   },
   "outputs": [],
   "source": [
    "z_eqn = sympy.solve(eqn,[z])\n",
    "\n",
    "#print z_eqn\n",
    "\n",
    "z_eqn = z_eqn[0]\n",
    "\n",
    "eqn_label = 'z = '+latex(z_eqn)\n",
    "print eqn_label"
   ]
  },
  {
   "cell_type": "markdown",
   "metadata": {
    "collapsed": false
   },
   "source": [
    "$$z = - x^{2} y^{2} e^{- x^{2} - y^{2}}$$"
   ]
  },
  {
   "cell_type": "markdown",
   "metadata": {
    "collapsed": false
   },
   "source": [
    "* Substitutions"
   ]
  },
  {
   "cell_type": "code",
   "execution_count": null,
   "metadata": {
    "collapsed": false
   },
   "outputs": [],
   "source": [
    "vals = [-1.,2.]\n",
    "\n",
    "var = [x,y]\n",
    "\n",
    "sub_dic = {el: vals[i] for i,el in enumerate(var)}\n",
    "#print sub_dic\n",
    "\n",
    "z_eqn.subs(sub_dic)"
   ]
  },
  {
   "cell_type": "code",
   "execution_count": null,
   "metadata": {
    "collapsed": false
   },
   "outputs": [],
   "source": [
    "x_vals = np.linspace(-1,1,100).tolist() # get a range of input values\n",
    "y_vals = np.linspace(-1,1,100).tolist()\n",
    "\n",
    "#print x_vals\n",
    "\n",
    "vals = [[xv,yv] for xv in x_vals for yv in y_vals] # enumerate all combinations of x_vals and y_vals\n",
    "vals = np.array(vals)\n",
    "\n",
    "#print vals.shape\n",
    "#print vals\n",
    "#print vals[0]\n",
    "\n",
    "var = [x,y] # all possible input values\n",
    "f = lambdify(var, z_eqn, \"numpy\") # convert the Sympy expression to a lambda-function for inputing values\n",
    "\n",
    "#print f(*vals[0])\n",
    "\n",
    "z_vals = [f(*inp) for inp in vals] # calculate z for each set of input values\n",
    "\n",
    "#np.array(z_vals).shape\n",
    "#z_vals[:10]"
   ]
  },
  {
   "cell_type": "code",
   "execution_count": null,
   "metadata": {
    "collapsed": false
   },
   "outputs": [],
   "source": [
    "# Let's plot the calculated z values\n",
    "\n",
    "fig = pylab.figure(figsize=(8, 4))\n",
    "ax = Axes3D(fig)\n",
    "p = ax.scatter(vals[:,0], vals[:,1], z_vals, c=z_vals, cmap='terrain', edgecolors='none', s=50 )\n",
    "\n",
    "ax.set_xlabel('x', fontsize=30, labelpad=25)\n",
    "ax.set_ylabel('y', fontsize=30, labelpad=25)\n",
    "\n",
    "# nb - I can use my expression here as the graph label\n",
    "ax.text2D(0.41, 1.0, r'$'+eqn_label+'$', transform=ax.transAxes, fontsize=30) \n",
    "\n",
    "ax.set_xticks([-1.,0,1.])\n",
    "ax.set_yticks([-1.,0,1.])\n",
    "ax.set_zticks([-0.16,-0.08,0.])\n",
    "\n",
    "ax.tick_params(axis='x', which='major', pad=5, size=20)\n",
    "ax.tick_params(axis='y', which='major', pad=5, size=20)\n",
    "ax.tick_params(axis='z', which='major', pad=10, size=20)\n",
    "\n",
    "ax.azim = 45\n",
    "ax.elev = 45"
   ]
  },
  {
   "cell_type": "markdown",
   "metadata": {
    "collapsed": false
   },
   "source": [
    "## Back to the peptide problem"
   ]
  },
  {
   "cell_type": "markdown",
   "metadata": {
    "collapsed": false
   },
   "source": [
    "* basic input for our problem"
   ]
  },
  {
   "cell_type": "code",
   "execution_count": null,
   "metadata": {
    "collapsed": false
   },
   "outputs": [],
   "source": [
    "Nres = 3 # number of residues\n",
    "Ncorr = 1 # == k; number of correlations treated in the approximation"
   ]
  },
  {
   "cell_type": "markdown",
   "metadata": {
    "collapsed": false
   },
   "source": [
    "* some specific coding stuff"
   ]
  },
  {
   "cell_type": "code",
   "execution_count": null,
   "metadata": {
    "collapsed": true
   },
   "outputs": [],
   "source": [
    "T_basenm = 'T2res'\n",
    "flag_seqdep = False\n",
    "end_state = 1 # must be 1 or 0, but doesn't play a roll, just for book keeping purposes"
   ]
  },
  {
   "cell_type": "markdown",
   "metadata": {
    "collapsed": false
   },
   "source": [
    "* get all the possible states for the full system, sets of pairs, and single residues"
   ]
  },
  {
   "cell_type": "code",
   "execution_count": null,
   "metadata": {
    "collapsed": false
   },
   "outputs": [],
   "source": [
    "states_Nres = get_poss_states( Nres )\n",
    "states_Nres = np.array(states_Nres) # my code expects a numpy array\n",
    "states_Nres"
   ]
  },
  {
   "cell_type": "code",
   "execution_count": null,
   "metadata": {
    "collapsed": false
   },
   "outputs": [],
   "source": [
    "states_kp1res = np.array(get_poss_states( Ncorr+1 ))\n",
    "states_kp1res"
   ]
  },
  {
   "cell_type": "code",
   "execution_count": null,
   "metadata": {
    "collapsed": false
   },
   "outputs": [],
   "source": [
    "states_kres = np.array(get_poss_states( Ncorr ))\n",
    "states_kres"
   ]
  },
  {
   "cell_type": "markdown",
   "metadata": {
    "collapsed": false
   },
   "source": [
    "* define symbols for each of the Nres variables, such that they are latex-compatible "
   ]
  },
  {
   "cell_type": "code",
   "execution_count": null,
   "metadata": {
    "collapsed": false
   },
   "outputs": [],
   "source": [
    "seq1 = '010'\n",
    "seq2 = '000'\n",
    "test = Symbol('P'+'_'+seq2+'|'+seq1, nonnegative=True) # prob always pos!\n",
    "print test\n",
    "print latex(test)"
   ]
  },
  {
   "cell_type": "markdown",
   "metadata": {
    "collapsed": false
   },
   "source": [
    "$$P_{000|010}$$"
   ]
  },
  {
   "cell_type": "code",
   "execution_count": null,
   "metadata": {
    "collapsed": false
   },
   "outputs": [],
   "source": [
    "# generate them all at once\n",
    "PN = []\n",
    "for s1 in range(len(states_Nres)):\n",
    "    PN.append([])\n",
    "    seq1 = ''.join(str(s) for s in states_Nres[s1])\n",
    "    for s2 in range(len(states_Nres)):\n",
    "        seq2 = ''.join(str(s) for s in states_Nres[s2])\n",
    "        PN[s1].append(Symbol('P_'+seq2+'|'+seq1, nonnegative=True))"
   ]
  },
  {
   "cell_type": "code",
   "execution_count": null,
   "metadata": {
    "collapsed": false
   },
   "outputs": [],
   "source": [
    "print PN\n",
    "print ''\n",
    "print PN[0]\n",
    "print ''\n",
    "print PN[0][0]"
   ]
  },
  {
   "cell_type": "code",
   "execution_count": null,
   "metadata": {
    "collapsed": false
   },
   "outputs": [],
   "source": [
    "# nb - defining matrices, can do matrix math with these\n",
    "M = sympy.Matrix(3, 2, lambda i,j:sympy.var('M_%d%d' % (i+1,j+1)))\n",
    "print M\n",
    "print latex(M)"
   ]
  },
  {
   "cell_type": "markdown",
   "metadata": {
    "collapsed": true
   },
   "source": [
    "$$\\left[\\begin{matrix}M_{11} & M_{12}\\\\M_{21} & M_{22}\\\\M_{31} & M_{32}\\end{matrix}\\right]$$"
   ]
  },
  {
   "cell_type": "code",
   "execution_count": null,
   "metadata": {
    "collapsed": false
   },
   "outputs": [],
   "source": [
    "# nb - for matplotlib syntax, leave out print\n",
    "latex(M)"
   ]
  },
  {
   "cell_type": "markdown",
   "metadata": {
    "collapsed": false
   },
   "source": [
    "* define the rest of the variables, just as before"
   ]
  },
  {
   "cell_type": "code",
   "execution_count": null,
   "metadata": {
    "collapsed": false
   },
   "outputs": [],
   "source": [
    "Pkp1res = define_Pkp1res(states_kp1res, Nres, Ncorr)\n",
    "Pkp1res_end = define_Pkp1res_end(states_kp1res, Nres, Ncorr)\n",
    "Pkp1res_stat = define_Pkp1res_stat(states_kp1res, Nres, Ncorr)\n",
    "Pkp1res_stat_end = define_Pkp1res_stat_end(states_kp1res, Nres, Ncorr)\n",
    "Pkres = define_Pkres(states_kres, Nres, Ncorr)\n",
    "Pkres_end = define_Pkres_end(states_kres, Nres, Ncorr)\n",
    "Pkres_stat = define_Pkres_stat(states_kres, Nres, Ncorr)\n",
    "Pkres_stat_end = define_Pkres_stat_end(states_kres, Nres, Ncorr)"
   ]
  },
  {
   "cell_type": "code",
   "execution_count": null,
   "metadata": {
    "collapsed": false
   },
   "outputs": [],
   "source": [
    "print latex(Pkp1res[0][0][0])\n",
    "print latex(Pkp1res_end[0][0][0])\n",
    "print latex(Pkp1res_stat[0][0])\n",
    "print latex(Pkp1res_stat_end[0][0])\n",
    "print latex(Pkres[0][0][0])\n",
    "print latex(Pkres_end[-1][0][0])\n",
    "print latex(Pkres_stat[0][0])\n",
    "print latex(Pkres_stat_end[0][0])"
   ]
  },
  {
   "cell_type": "markdown",
   "metadata": {
    "collapsed": false
   },
   "source": [
    "$$P^{0,1}_{00|00}$$\n",
    "\n",
    "$$P^{b0,0}_{00|00}$$\n",
    "\n",
    "$$P^{0,1}_{00}$$\n",
    "\n",
    "$$P^{b0,0}_{00}$$\n",
    "\n",
    "$$P^{0}_{0|0}$$\n",
    "\n",
    "$$P^{e0}_{0|0}$$\n",
    "\n",
    "$$P^{0}_{0}$$\n",
    "\n",
    "$$P^{b0}_{0}$$"
   ]
  },
  {
   "cell_type": "markdown",
   "metadata": {
    "collapsed": false
   },
   "source": [
    "### We need dummy variables at the ends for boundary conditions\n",
    "\n",
    "&nbsp;\n",
    "\n",
    "$$\\huge \\bullet-\\bullet-\\bullet-\\bullet-\\bullet$$  \n",
    "$$\\large b_0 \\hspace{11mm} x_0 \\hspace{11mm} x_1 \\hspace{11mm} x_2 \\hspace{11mm} e_0 $$             \n"
   ]
  },
  {
   "cell_type": "markdown",
   "metadata": {
    "collapsed": false
   },
   "source": [
    "* now, let's put together the equations for each global prob           \n"
   ]
  },
  {
   "cell_type": "code",
   "execution_count": null,
   "metadata": {
    "collapsed": false
   },
   "outputs": [],
   "source": [
    "eqns_PN = []\n",
    "for s in range(len(states_Nres)):\n",
    "    for sp in range(len(states_Nres)):\n",
    "        tmp = 1.\n",
    "        for res in range(Nres-Ncorr):\n",
    "            statep = states_Nres[sp][res:res+Ncorr+1]\n",
    "            indp = np.where( np.all(states_kp1res==np.array(statep),axis=1) == True )[0][0]\n",
    "            state = states_Nres[s][res:res+Ncorr+1]\n",
    "            ind = np.where( np.all(states_kp1res==np.array(state),axis=1) == True )[0][0]\n",
    "            tmp *= Pkp1res[res][ind][indp]\n",
    "        for res in range(Nres-Ncorr-1):\n",
    "            statep = states_Nres[sp][res+1:res+1+Ncorr]\n",
    "            indp = np.where( np.all(states_kres==np.array(statep),axis=1) == True )[0][0]\n",
    "            state = states_Nres[s][res+1:res+1+Ncorr]\n",
    "            ind = np.where( np.all(states_kres==np.array(state),axis=1) == True )[0][0]\n",
    "            tmp /= Pkres[res+1][ind][indp]\n",
    "        tmp *= -1\n",
    "        tmp += PN[s][sp]\n",
    "        eqns_PN.append(tmp)"
   ]
  },
  {
   "cell_type": "code",
   "execution_count": null,
   "metadata": {
    "collapsed": false
   },
   "outputs": [],
   "source": [
    "eqns_PN[0]"
   ]
  },
  {
   "cell_type": "code",
   "execution_count": null,
   "metadata": {
    "collapsed": false
   },
   "outputs": [],
   "source": [
    "print latex(eqns_PN[0])"
   ]
  },
  {
   "cell_type": "markdown",
   "metadata": {},
   "source": [
    "$$- \\frac{1.0 P^{0,1}_{00|00}}{P^{1}_{0|0}} P^{1,2}_{00|00} + P_{000|000}$$"
   ]
  },
  {
   "cell_type": "markdown",
   "metadata": {
    "collapsed": false
   },
   "source": [
    "* we can solve this equation using Sympy for a nicer latex display"
   ]
  },
  {
   "cell_type": "code",
   "execution_count": null,
   "metadata": {
    "collapsed": false
   },
   "outputs": [],
   "source": [
    "soln_dic = sympy.solve([eqns_PN[0]],np.concatenate(PN).tolist())\n",
    "#print soln_dic"
   ]
  },
  {
   "cell_type": "code",
   "execution_count": null,
   "metadata": {
    "collapsed": false
   },
   "outputs": [],
   "source": [
    "print latex(PN[0][0])+'='+latex(soln_dic[PN[0][0]])"
   ]
  },
  {
   "cell_type": "markdown",
   "metadata": {
    "collapsed": false
   },
   "source": [
    "$$P_{000|000}=\\frac{P^{0,1}_{00|00} P^{1,2}_{00|00}}{P^{1}_{0|0}}$$"
   ]
  },
  {
   "cell_type": "markdown",
   "metadata": {
    "collapsed": false
   },
   "source": [
    "* generate normalization conditions for PN"
   ]
  },
  {
   "cell_type": "code",
   "execution_count": null,
   "metadata": {
    "collapsed": true
   },
   "outputs": [],
   "source": [
    "eqns_norm_PN = []\n",
    "for s1 in range(len(states_Nres)):\n",
    "    eqns_norm_PN.append( np.sum(PN,axis=1)[s1] - 1 )"
   ]
  },
  {
   "cell_type": "code",
   "execution_count": null,
   "metadata": {
    "collapsed": false
   },
   "outputs": [],
   "source": [
    "print latex(eqns_norm_PN[0])+' = 0'"
   ]
  },
  {
   "cell_type": "markdown",
   "metadata": {
    "collapsed": false
   },
   "source": [
    "$$P_{000|000} + P_{001|000} + P_{010|000} + P_{011|000} + P_{100|000} + P_{101|000} + P_{110|000} + P_{111|000} - 1 = 0$$\n"
   ]
  },
  {
   "cell_type": "markdown",
   "metadata": {
    "collapsed": false
   },
   "source": [
    "* generate equations for the k-res conditional probabilties"
   ]
  },
  {
   "cell_type": "code",
   "execution_count": null,
   "metadata": {
    "collapsed": false
   },
   "outputs": [],
   "source": [
    "eqns_Pkres = get_eqns_Pkres(states_kp1res, states_kres, Nres, Ncorr, Pkp1res, Pkp1res_end, Pkp1res_stat, Pkp1res_stat_end, Pkres, Pkres_end, Pkres_stat, Pkres_stat_end, end_state)"
   ]
  },
  {
   "cell_type": "code",
   "execution_count": null,
   "metadata": {
    "collapsed": false
   },
   "outputs": [],
   "source": [
    "print latex(eqns_Pkres[0])+' = 0'"
   ]
  },
  {
   "cell_type": "markdown",
   "metadata": {
    "collapsed": false
   },
   "source": [
    "$$P^{0}_{0|0} - \\frac{1}{P^{0}_{0}} \\left(1.0 P^{0,1}_{00} P^{0,1}_{00|00} P^{b0,0}_{10} P^{b0,0}_{10|10} + 1.0 P^{0,1}_{00} P^{0,1}_{01|00} P^{b0,0}_{10} P^{b0,0}_{10|10} + 1.0 P^{0,1}_{00|01} P^{0,1}_{01} P^{b0,0}_{10} P^{b0,0}_{10|10} + 1.0 P^{0,1}_{01} P^{0,1}_{01|01} P^{b0,0}_{10} P^{b0,0}_{10|10}\\right)^{0.5} = 0$$"
   ]
  },
  {
   "cell_type": "markdown",
   "metadata": {
    "collapsed": false
   },
   "source": [
    "* and corresponding normalization conditions..."
   ]
  },
  {
   "cell_type": "code",
   "execution_count": null,
   "metadata": {
    "collapsed": false
   },
   "outputs": [],
   "source": [
    "eqns_norm_Pkres = []\n",
    "for res in range(Nres-(Ncorr-1)):\n",
    "    for s1 in range(len(states_kres)):\n",
    "        eqn_tmp = 0.\n",
    "        for s2 in range(len(states_kres)):\n",
    "            eqn_tmp += Pkres[res][s1][s2]\n",
    "        eqns_norm_Pkres.append( eqn_tmp - 1 )"
   ]
  },
  {
   "cell_type": "code",
   "execution_count": null,
   "metadata": {
    "collapsed": false
   },
   "outputs": [],
   "source": [
    "print latex(eqns_norm_Pkres[2])+' = 0'"
   ]
  },
  {
   "cell_type": "markdown",
   "metadata": {
    "collapsed": false
   },
   "source": [
    "$$P^{1}_{0|0} + P^{1}_{1|0} - 1 = 0$$"
   ]
  },
  {
   "cell_type": "markdown",
   "metadata": {
    "collapsed": false
   },
   "source": [
    "* specify the boundary conditions"
   ]
  },
  {
   "cell_type": "code",
   "execution_count": null,
   "metadata": {
    "collapsed": false
   },
   "outputs": [],
   "source": [
    "inp_bndry_cond_stat = get_bndry_cond_stat_dict(states_kp1res, states_kres, Nres, Ncorr, Pkp1res_stat_end, Pkres_stat, end_state)\n",
    "inp_bndry_cond = get_bndry_cond_dict(states_kp1res, states_kres, Nres, Ncorr, Pkp1res_end, Pkres, end_state)\n",
    "inp_bndry_cond_kres_stat = get_bndry_cond_kres_stat_dict(states_kp1res, states_kres, Nres, Ncorr, Pkres_stat_end, Pkres_stat, end_state)\n",
    "inp_bndry_cond_kres = get_bndry_cond_kres_dict(states_kp1res, states_kres, Nres, Ncorr, Pkres_end, Pkres_stat, end_state)\n",
    "\n",
    "print inp_bndry_cond_stat"
   ]
  },
  {
   "cell_type": "markdown",
   "metadata": {
    "collapsed": false
   },
   "source": [
    "* let's substitute the boundary conditions into our equations"
   ]
  },
  {
   "cell_type": "code",
   "execution_count": null,
   "metadata": {
    "collapsed": false
   },
   "outputs": [],
   "source": [
    "eqns_Pkres.subs(inp_bndry_cond) # nb - .subs only works on a single expression!\n",
    "#eqns_Pkres[0].subs(inp_bndry_cond)"
   ]
  },
  {
   "cell_type": "markdown",
   "metadata": {
    "collapsed": false
   },
   "source": [
    "* make a function for substituting into a list of expressions"
   ]
  },
  {
   "cell_type": "code",
   "execution_count": null,
   "metadata": {
    "collapsed": false
   },
   "outputs": [],
   "source": [
    "def sub_inp( eqns, dic ):\n",
    "    for eqn in range(len(eqns)):\n",
    "        eqns[eqn] = eqns[eqn].subs(dic)\n",
    "    return eqns"
   ]
  },
  {
   "cell_type": "markdown",
   "metadata": {
    "collapsed": false
   },
   "source": [
    "* substitute all the boundary conditions"
   ]
  },
  {
   "cell_type": "code",
   "execution_count": null,
   "metadata": {
    "collapsed": false
   },
   "outputs": [],
   "source": [
    "eqns_Pkres = sub_inp( eqns_Pkres, inp_bndry_cond )\n",
    "eqns_Pkres = sub_inp( eqns_Pkres, inp_bndry_cond_stat )\n",
    "eqns_Pkres = sub_inp( eqns_Pkres, inp_bndry_cond_kres )\n",
    "eqns_Pkres = sub_inp( eqns_Pkres, inp_bndry_cond_kres_stat )"
   ]
  },
  {
   "cell_type": "code",
   "execution_count": null,
   "metadata": {
    "collapsed": false
   },
   "outputs": [],
   "source": [
    "print latex(eqns_Pkres[0])+' = 0'"
   ]
  },
  {
   "cell_type": "markdown",
   "metadata": {
    "collapsed": false
   },
   "source": [
    "$$P^{0}_{0|0} - \\frac{1}{P^{0}_{0}} \\left(1.0 P^{0,1}_{00} P^{0,1}_{00|00} P^{b0,0}_{10} P^{b0,0}_{10|10} + 1.0 P^{0,1}_{00} P^{0,1}_{01|00} P^{b0,0}_{10} P^{b0,0}_{10|10} + 1.0 P^{0,1}_{00|01} P^{0,1}_{01} P^{b0,0}_{10} P^{b0,0}_{10|10} + 1.0 P^{0,1}_{01} P^{0,1}_{01|01} P^{b0,0}_{10} P^{b0,0}_{10|10}\\right)^{0.5} = 0$$\n",
    "\n",
    "$$P^{0}_{0|0} - \\frac{1}{P^{0}_{0}} \\left(1.0 P^{0,1}_{00} P^{0,1}_{00|00} P^{0}_{0} P^{0}_{0|0} + 1.0 P^{0,1}_{00} P^{0,1}_{01|00} P^{0}_{0} P^{0}_{0|0} + 1.0 P^{0,1}_{00|01} P^{0,1}_{01} P^{0}_{0} P^{0}_{0|0} + 1.0 P^{0,1}_{01} P^{0,1}_{01|01} P^{0}_{0} P^{0}_{0|0}\\right)^{0.5} = 0\n",
    "$$"
   ]
  },
  {
   "cell_type": "markdown",
   "metadata": {
    "collapsed": false
   },
   "source": [
    "* read in the input model"
   ]
  },
  {
   "cell_type": "code",
   "execution_count": null,
   "metadata": {
    "collapsed": false
   },
   "outputs": [],
   "source": [
    "Pkp1res_inp = []\n",
    "Nsets = Nres-Ncorr\n",
    "for group in range(Nsets):\n",
    "    if ( flag_seqdep ):\n",
    "        Pkp1res_inp.append(np.load(T_basenm+'_'+str(group)+'.npy'))\n",
    "    else:\n",
    "        Pkp1res_inp.append(np.load(T_basenm+'.npy'))"
   ]
  },
  {
   "cell_type": "code",
   "execution_count": null,
   "metadata": {
    "collapsed": false
   },
   "outputs": [],
   "source": [
    "print Pkp1res_inp[0]\n",
    "fig = plt.figure(figsize=(7,4))\n",
    "plt.pcolor(Pkp1res_inp[0],cmap='Blues',vmin=0,vmax=1)\n",
    "plt.colorbar()"
   ]
  },
  {
   "cell_type": "markdown",
   "metadata": {
    "collapsed": false
   },
   "source": [
    "* set up a dictionary for the permanent inputs"
   ]
  },
  {
   "cell_type": "code",
   "execution_count": null,
   "metadata": {
    "collapsed": false
   },
   "outputs": [],
   "source": [
    "inp_var = {}\n",
    "# Pkp1res\n",
    "for res in range(Nres-Ncorr):\n",
    "    for s1 in range(len(states_kp1res)):\n",
    "        for s2 in range(len(states_kp1res)):\n",
    "            var = Pkp1res[res][s1][s2]\n",
    "            inp_var[var] = Pkp1res_inp[res][s1][s2]\n",
    "print inp_var"
   ]
  },
  {
   "cell_type": "markdown",
   "metadata": {
    "collapsed": false
   },
   "source": [
    "* substitute these values into the equations"
   ]
  },
  {
   "cell_type": "code",
   "execution_count": null,
   "metadata": {
    "collapsed": false
   },
   "outputs": [],
   "source": [
    "eqns_Pkres = sub_inp( eqns_Pkres, inp_var )"
   ]
  },
  {
   "cell_type": "code",
   "execution_count": null,
   "metadata": {
    "collapsed": false
   },
   "outputs": [],
   "source": [
    "print latex(eqns_Pkres[0])+' = 0'"
   ]
  },
  {
   "cell_type": "markdown",
   "metadata": {},
   "source": [
    "$$P^{0}_{0|0} - \\frac{1}{P^{0}_{0}} \\left(0.745160670467251 P^{0,1}_{00} P^{0}_{0} P^{0}_{0|0} + 0.678819236749774 P^{0,1}_{01} P^{0}_{0} P^{0}_{0|0}\\right)^{0.5} = 0$$"
   ]
  },
  {
   "cell_type": "code",
   "execution_count": null,
   "metadata": {
    "collapsed": false
   },
   "outputs": [],
   "source": [
    "print latex( N(eqns_Pkres[0],2) )+' = 0'"
   ]
  },
  {
   "cell_type": "markdown",
   "metadata": {},
   "source": [
    "$$P^{0}_{0|0} - \\frac{1}{P^{0}_{0}} \\left(0.75 P^{0,1}_{00} P^{0}_{0} P^{0}_{0|0} + 0.68 P^{0,1}_{01} P^{0}_{0} P^{0}_{0|0}\\right)^{0.5} = 0$$"
   ]
  },
  {
   "cell_type": "code",
   "execution_count": null,
   "metadata": {
    "collapsed": false
   },
   "outputs": [],
   "source": [
    "print latex( N(simplify(eqns_Pkres[0]),2) )+' = 0'"
   ]
  },
  {
   "cell_type": "markdown",
   "metadata": {},
   "source": [
    "$$- \\frac{(P^{0}_{0|0})^{0.5}}{(P^{0}_{0})^{0.5}} \\left(0.75 P^{0,1}_{00} + 0.68 P^{0,1}_{01}\\right)^{0.5} + P^{0}_{0|0}$$\n",
    "\n",
    "*nb - latex printing messed up here, had to add parantheses myself"
   ]
  },
  {
   "cell_type": "markdown",
   "metadata": {
    "collapsed": false
   },
   "source": [
    "* approximate the stationary probabilities from the input model (calculated ahead of time)"
   ]
  },
  {
   "cell_type": "code",
   "execution_count": null,
   "metadata": {
    "collapsed": true
   },
   "outputs": [],
   "source": [
    "mu_eff_kp1res = np.load('mu_eff_kp1res_0.npy')\n",
    "mu_eff_kres = np.load('mu_eff_kres_0.npy')"
   ]
  },
  {
   "cell_type": "code",
   "execution_count": null,
   "metadata": {
    "collapsed": false
   },
   "outputs": [],
   "source": [
    "print mu_eff_kres\n",
    "print mu_eff_kp1res"
   ]
  },
  {
   "cell_type": "markdown",
   "metadata": {
    "collapsed": false
   },
   "source": [
    "* make a dictionary of these values for substitution"
   ]
  },
  {
   "cell_type": "code",
   "execution_count": null,
   "metadata": {
    "collapsed": false
   },
   "outputs": [],
   "source": [
    "# initialize the Pkp1res_stat inputs\n",
    "inp_tmp = add_Pkp1res_stat_dict_vals( {}, Pkp1res_stat, mu_eff_kp1res, states_kp1res, Nres, Ncorr )\n",
    "# add the Pkres_stat inputs\n",
    "for res in range(Nres-(Ncorr-1)):\n",
    "    for state in range(len(states_kres)):\n",
    "        var = Pkres_stat[res][state]\n",
    "        inp_tmp[var] = mu_eff_kres[res][state]\n",
    "print inp_tmp"
   ]
  },
  {
   "cell_type": "markdown",
   "metadata": {
    "collapsed": false
   },
   "source": [
    "* substitute the inputs into the eqns - these are initial estimates..."
   ]
  },
  {
   "cell_type": "code",
   "execution_count": null,
   "metadata": {
    "collapsed": false
   },
   "outputs": [],
   "source": [
    "eqns = deepcopy(eqns_Pkres) # nb - copying my expressions, so I don't permanently overwrite them\n",
    "eqns = sub_inp( eqns, inp_tmp )"
   ]
  },
  {
   "cell_type": "markdown",
   "metadata": {
    "collapsed": false
   },
   "source": [
    "* solve the equations using Sympy"
   ]
  },
  {
   "cell_type": "code",
   "execution_count": null,
   "metadata": {
    "collapsed": false
   },
   "outputs": [],
   "source": [
    "Pkres_flat = np.reshape(Pkres,(Nres*states_kres.shape[0]*states_kres.shape[0])).tolist() # flatten the var list\n",
    "#Pkres_flat = np.concatenate(np.concatenate(Pkres)).tolist()\n",
    "#Pkres_flat = [item for sublist in Pkres for subsublist in sublist for item in subsublist]\n",
    "#print Pkres_flat\n",
    "\n",
    "soln = sympy.solve(eqns, Pkres_flat)\n",
    "#print soln\n",
    "soln = soln[0]"
   ]
  },
  {
   "cell_type": "code",
   "execution_count": null,
   "metadata": {
    "collapsed": false
   },
   "outputs": [],
   "source": [
    "print latex(Pkres_flat[0])+'='+str(N(soln[0],2))"
   ]
  },
  {
   "cell_type": "markdown",
   "metadata": {},
   "source": [
    "$$P^{0}_{0|0}=0.71$$"
   ]
  },
  {
   "cell_type": "markdown",
   "metadata": {
    "collapsed": false
   },
   "source": [
    "* these equations trivial, but we may more generally want to use a more powerful solver from the scipy package"
   ]
  },
  {
   "cell_type": "markdown",
   "metadata": {
    "collapsed": false
   },
   "source": [
    "* nb - scipy can't handle all the latex syntax in my symbols, convert to something simpler"
   ]
  },
  {
   "cell_type": "code",
   "execution_count": null,
   "metadata": {
    "collapsed": false
   },
   "outputs": [],
   "source": [
    "Pkres_alt = [Symbol('Pkres'+str(i)) for i,el in enumerate(Pkres_flat)]\n",
    "print Pkres_alt"
   ]
  },
  {
   "cell_type": "code",
   "execution_count": null,
   "metadata": {
    "collapsed": false
   },
   "outputs": [],
   "source": [
    "Pkres_alt_dic = {el: Symbol('Pkres'+str(i)) for i,el in enumerate(Pkres_flat)}\n",
    "print Pkres_alt_dic"
   ]
  },
  {
   "cell_type": "code",
   "execution_count": null,
   "metadata": {
    "collapsed": false
   },
   "outputs": [],
   "source": [
    "Pkres_rev_dic = {val: key for (key,val) in Pkres_alt_dic.items()}\n",
    "print Pkres_rev_dic"
   ]
  },
  {
   "cell_type": "code",
   "execution_count": null,
   "metadata": {
    "collapsed": false
   },
   "outputs": [],
   "source": [
    "eqns = sub_inp(eqns, Pkres_alt_dic)\n",
    "print N(eqns[0],2)"
   ]
  },
  {
   "cell_type": "markdown",
   "metadata": {
    "collapsed": false
   },
   "source": [
    "* to solve with scipy, we need to transform the expressions into scipy-compatible functions"
   ]
  },
  {
   "cell_type": "code",
   "execution_count": null,
   "metadata": {
    "collapsed": false
   },
   "outputs": [],
   "source": [
    "def lambdify_vec( eqns, var ): # lambdify a list of expressions\n",
    "    fncs = [lambdify((var), eqn, modules='numpy') for eqn in eqns]\n",
    "    return fncs\n",
    "\n",
    "def gen_fv( fncs ): # generate a function which evaluates the list of lambda functions for given inputs\n",
    "    return lambda zz: np.array([fnc(*zz) for fnc in fncs]) # nb - think about generating a Jacobian in this way...\n",
    "\n",
    "def init_soln( N ): # generate an initial solution of a given size\n",
    "    return 0.5*np.ones(N)"
   ]
  },
  {
   "cell_type": "markdown",
   "metadata": {
    "collapsed": false
   },
   "source": [
    "* now we are ready to solve"
   ]
  },
  {
   "cell_type": "code",
   "execution_count": null,
   "metadata": {
    "collapsed": false
   },
   "outputs": [],
   "source": [
    "var_live = Pkres_alt\n",
    "fncs = lambdify_vec( eqns, var_live )\n",
    "f_v = gen_fv( fncs )\n",
    "zz0 = init_soln(len(var_live))\n",
    "Pkres_soln = fsolve(f_v, zz0)"
   ]
  },
  {
   "cell_type": "code",
   "execution_count": null,
   "metadata": {
    "collapsed": false
   },
   "outputs": [],
   "source": [
    "Pkres_soln"
   ]
  },
  {
   "cell_type": "markdown",
   "metadata": {
    "collapsed": false
   },
   "source": [
    "* check accuracy of the normalization "
   ]
  },
  {
   "cell_type": "code",
   "execution_count": null,
   "metadata": {
    "collapsed": false
   },
   "outputs": [],
   "source": [
    "eqns_norm_Pkres = sub_inp(eqns_norm_Pkres, Pkres_alt_dic)\n",
    "sumsq_Pkres_norm = []\n",
    "soln_var = {}\n",
    "for var in range(len(var_live)):\n",
    "    soln_var[var_live[var]] = Pkres_soln[var]\n",
    "sumsq_Pkres_norm.append(sumsq_eqns(eqns_norm_Pkres,soln_var))"
   ]
  },
  {
   "cell_type": "code",
   "execution_count": null,
   "metadata": {
    "collapsed": false
   },
   "outputs": [],
   "source": [
    "sumsq_Pkres_norm"
   ]
  },
  {
   "cell_type": "markdown",
   "metadata": {
    "collapsed": false
   },
   "source": [
    "* same thing for the N-res probabilities"
   ]
  },
  {
   "cell_type": "markdown",
   "metadata": {
    "collapsed": false
   },
   "source": [
    "* first, swap out scipy-compatible variables"
   ]
  },
  {
   "cell_type": "code",
   "execution_count": null,
   "metadata": {
    "collapsed": true
   },
   "outputs": [],
   "source": [
    "PN_flat = np.reshape(PN,(states_Nres.shape[0]*states_Nres.shape[0]))\n",
    "PN_alt = [Symbol('PN'+str(i)) for i,el in enumerate(PN_flat)]\n",
    "PN_alt_dic = {el: Symbol('PN'+str(i)) for i,el in enumerate(PN_flat)}"
   ]
  },
  {
   "cell_type": "markdown",
   "metadata": {
    "collapsed": false
   },
   "source": [
    "* substitute all possible inputs"
   ]
  },
  {
   "cell_type": "code",
   "execution_count": null,
   "metadata": {
    "collapsed": false
   },
   "outputs": [],
   "source": [
    "tot_var = dict(inp_tmp.items()+soln_var.items()+inp_var.items())\n",
    "eqns = deepcopy(eqns_PN)\n",
    "eqns = sub_inp( eqns, Pkres_alt_dic)\n",
    "eqns = sub_inp( eqns, tot_var )\n",
    "eqns = sub_inp( eqns, PN_alt_dic)"
   ]
  },
  {
   "cell_type": "markdown",
   "metadata": {
    "collapsed": false
   },
   "source": [
    "* solve the N-res equations with scipy"
   ]
  },
  {
   "cell_type": "code",
   "execution_count": null,
   "metadata": {
    "collapsed": false
   },
   "outputs": [],
   "source": [
    "var_live = PN_alt\n",
    "fncs = lambdify_vec( eqns, var_live )\n",
    "f_v = gen_fv( fncs )\n",
    "zz0 = init_soln(len(var_live))\n",
    "PN_soln = fsolve(f_v, zz0)"
   ]
  },
  {
   "cell_type": "code",
   "execution_count": null,
   "metadata": {
    "collapsed": false
   },
   "outputs": [],
   "source": [
    "PN_soln"
   ]
  },
  {
   "cell_type": "markdown",
   "metadata": {
    "collapsed": false
   },
   "source": [
    "* check accuracy of the normalization"
   ]
  },
  {
   "cell_type": "code",
   "execution_count": null,
   "metadata": {
    "collapsed": false
   },
   "outputs": [],
   "source": [
    "eqns_norm_PN = sub_inp(eqns_norm_PN, PN_alt_dic)\n",
    "soln_var = {}\n",
    "sumsq_PN_norm = []\n",
    "for var in range(len(var_live)):\n",
    "    soln_var[var_live[var]] = PN_soln[var]\n",
    "sumsq_PN_norm.append(sumsq_eqns(eqns_norm_PN,soln_var))"
   ]
  },
  {
   "cell_type": "code",
   "execution_count": null,
   "metadata": {
    "collapsed": false
   },
   "outputs": [],
   "source": [
    "sumsq_PN_norm"
   ]
  },
  {
   "cell_type": "markdown",
   "metadata": {
    "collapsed": false
   },
   "source": [
    "* the model is surprisingly consitent without iterating => the residue dynamics are largely uncoupled"
   ]
  },
  {
   "cell_type": "markdown",
   "metadata": {
    "collapsed": false
   },
   "source": [
    "####     You can now set up and solve equations with Sympy!\n",
    "## The End"
   ]
  },
  {
   "cell_type": "code",
   "execution_count": null,
   "metadata": {
    "collapsed": true
   },
   "outputs": [],
   "source": []
  },
  {
   "cell_type": "code",
   "execution_count": null,
   "metadata": {
    "collapsed": true
   },
   "outputs": [],
   "source": []
  }
 ],
 "metadata": {
  "kernelspec": {
   "display_name": "Python 2",
   "language": "python",
   "name": "python2"
  },
  "language_info": {
   "codemirror_mode": {
    "name": "ipython",
    "version": 2
   },
   "file_extension": ".py",
   "mimetype": "text/x-python",
   "name": "python",
   "nbconvert_exporter": "python",
   "pygments_lexer": "ipython2",
   "version": "2.7.11"
  }
 },
 "nbformat": 4,
 "nbformat_minor": 0
}
